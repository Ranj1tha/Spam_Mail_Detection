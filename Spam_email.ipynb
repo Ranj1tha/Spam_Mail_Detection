{
  "nbformat": 4,
  "nbformat_minor": 0,
  "metadata": {
    "colab": {
      "name": "Spam-email.ipynb",
      "provenance": [],
      "authorship_tag": "ABX9TyO+xlfoFf+SrBKi9Xp/l41+",
      "include_colab_link": true
    },
    "kernelspec": {
      "name": "python3",
      "display_name": "Python 3"
    }
  },
  "cells": [
    {
      "cell_type": "markdown",
      "metadata": {
        "id": "view-in-github",
        "colab_type": "text"
      },
      "source": [
        "<a href=\"https://colab.research.google.com/github/Ranj1tha/Spam_Mail_Detection/blob/main/Spam_email.ipynb\" target=\"_parent\"><img src=\"https://colab.research.google.com/assets/colab-badge.svg\" alt=\"Open In Colab\"/></a>"
      ]
    },
    {
      "cell_type": "code",
      "metadata": {
        "id": "plrQB8eCOuXg"
      },
      "source": [
        "#Importing the dataset\n",
        " \n",
        "import pandas as pd\n",
        "import numpy as np\n",
        "import matplotlib.pyplot as plt"
      ],
      "execution_count": 7,
      "outputs": []
    },
    {
      "cell_type": "code",
      "metadata": {
        "id": "-eVZd90kJ4cU"
      },
      "source": [
        "# Importing the dataset\n",
        " \n",
        "dataset=pd.read_csv('/content/spam.csv')\n",
        "X=dataset[\"EmailText\"]\n",
        "y=dataset[\"Label\"]"
      ],
      "execution_count": 8,
      "outputs": []
    },
    {
      "cell_type": "markdown",
      "metadata": {
        "id": "gY5CEW3MccFD"
      },
      "source": [
        ""
      ]
    },
    {
      "cell_type": "code",
      "metadata": {
        "id": "2Ct6DZa4qy_x"
      },
      "source": [
        "#splitting the data set into the training set and test set\n",
        "from sklearn.model_selection import train_test_split\n",
        "X_train,X_test,y_train,y_test=train_test_split(X,y,test_size=0.3,random_state=1)"
      ],
      "execution_count": 9,
      "outputs": []
    },
    {
      "cell_type": "code",
      "metadata": {
        "id": "PNmxMds0q6Ca"
      },
      "source": [
        "from sklearn.feature_extraction.text import CountVectorizer\n",
        "cv=CountVectorizer(stop_words=\"english\",max_features=500)\n",
        "train_data=cv.fit_transform(X_train)\n",
        "test_data=cv.fit_transform(X_test)"
      ],
      "execution_count": 13,
      "outputs": []
    },
    {
      "cell_type": "code",
      "metadata": {
        "id": "rPWrGvbkw27d",
        "colab": {
          "base_uri": "https://localhost:8080/"
        },
        "outputId": "6b0fa26e-a0d0-46d2-8656-525ee604748c"
      },
      "source": [
        "from sklearn.model_selection import GridSearchCV\n",
        "from sklearn.svm import SVC\n",
        "model=SVC()\n",
        "model.fit(train_data,y_train)"
      ],
      "execution_count": 14,
      "outputs": [
        {
          "output_type": "execute_result",
          "data": {
            "text/plain": [
              "SVC(C=1.0, break_ties=False, cache_size=200, class_weight=None, coef0=0.0,\n",
              "    decision_function_shape='ovr', degree=3, gamma='scale', kernel='rbf',\n",
              "    max_iter=-1, probability=False, random_state=None, shrinking=True,\n",
              "    tol=0.001, verbose=False)"
            ]
          },
          "metadata": {
            "tags": []
          },
          "execution_count": 14
        }
      ]
    },
    {
      "cell_type": "code",
      "metadata": {
        "colab": {
          "base_uri": "https://localhost:8080/"
        },
        "id": "J2ghLflqxF-f",
        "outputId": "9e4f2cb1-25ea-4b4c-8723-d0eae252ee30"
      },
      "source": [
        "param_grid= {'C' :[0.1 ,1 ,10 ,100, 1000],\n",
        "             'gamma':[1,0.1,0.01,0.001,0.0001],\n",
        "             'kernel':['linear','rbf']}\n",
        " \n",
        "grid=GridSearchCV(SVC(),param_grid)\n",
        "#fitting the model for grid search\n",
        "grid.fit(train_data,y_train)"
      ],
      "execution_count": 19,
      "outputs": [
        {
          "output_type": "execute_result",
          "data": {
            "text/plain": [
              "GridSearchCV(cv=None, error_score=nan,\n",
              "             estimator=SVC(C=1.0, break_ties=False, cache_size=200,\n",
              "                           class_weight=None, coef0=0.0,\n",
              "                           decision_function_shape='ovr', degree=3,\n",
              "                           gamma='scale', kernel='rbf', max_iter=-1,\n",
              "                           probability=False, random_state=None, shrinking=True,\n",
              "                           tol=0.001, verbose=False),\n",
              "             iid='deprecated', n_jobs=None,\n",
              "             param_grid={'C': [0.1, 1, 10, 100, 1000],\n",
              "                         'gamma': [1, 0.1, 0.01, 0.001, 0.0001],\n",
              "                         'kernel': ['linear', 'rbf']},\n",
              "             pre_dispatch='2*n_jobs', refit=True, return_train_score=False,\n",
              "             scoring=None, verbose=0)"
            ]
          },
          "metadata": {
            "tags": []
          },
          "execution_count": 19
        }
      ]
    },
    {
      "cell_type": "code",
      "metadata": {
        "id": "ciIJUowJx6DF",
        "colab": {
          "base_uri": "https://localhost:8080/"
        },
        "outputId": "dfcfe225-b4cd-4ac4-f55f-c8b75e401110"
      },
      "source": [
        "grid.score(test_data,y_test)"
      ],
      "execution_count": 20,
      "outputs": [
        {
          "output_type": "execute_result",
          "data": {
            "text/plain": [
              "0.8492822966507177"
            ]
          },
          "metadata": {
            "tags": []
          },
          "execution_count": 20
        }
      ]
    },
    {
      "cell_type": "code",
      "metadata": {
        "id": "ML3UCw4byULA"
      },
      "source": [
        "prediction=np.array(grid.predict(test_data))"
      ],
      "execution_count": 21,
      "outputs": []
    },
    {
      "cell_type": "code",
      "metadata": {
        "id": "bOxLS8zSyxCU"
      },
      "source": [
        "from sklearn.metrics import confusion_matrix,accuracy_score,classification_report"
      ],
      "execution_count": 22,
      "outputs": []
    },
    {
      "cell_type": "code",
      "metadata": {
        "id": "T5urFbiAzRTD",
        "colab": {
          "base_uri": "https://localhost:8080/"
        },
        "outputId": "fb3e732f-86a9-4add-ee2a-11cd3fba1e22"
      },
      "source": [
        "print(classification_report(y_test,prediction))\n",
        "print(accuracy_score(y_test,prediction))\n",
        "print(confusion_matrix(y_test,prediction))"
      ],
      "execution_count": 24,
      "outputs": [
        {
          "output_type": "stream",
          "text": [
            "              precision    recall  f1-score   support\n",
            "\n",
            "         ham       0.89      0.94      0.92      1454\n",
            "        spam       0.38      0.26      0.31       218\n",
            "\n",
            "    accuracy                           0.85      1672\n",
            "   macro avg       0.64      0.60      0.61      1672\n",
            "weighted avg       0.83      0.85      0.84      1672\n",
            "\n",
            "0.8492822966507177\n",
            "[[1364   90]\n",
            " [ 162   56]]\n"
          ],
          "name": "stdout"
        }
      ]
    }
  ]
}